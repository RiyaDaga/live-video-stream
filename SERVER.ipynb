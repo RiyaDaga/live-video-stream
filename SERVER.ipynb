{
 "cells": [
  {
   "cell_type": "code",
   "execution_count": null,
   "id": "9c91d9f6",
   "metadata": {},
   "outputs": [
    {
     "name": "stdout",
     "output_type": "stream",
     "text": [
      "Binded\n",
      "Connected to ('192.168.29.189', 58481)\n"
     ]
    }
   ],
   "source": [
    "import socket\n",
    "import pickle\n",
    "import cv2\n",
    "\n",
    "# creating the socket\n",
    "s = socket.socket(socket.AF_INET,socket.SOCK_STREAM)\n",
    "ip= \"192.168.29.189\"\n",
    "port=1235\n",
    "#binding ip and port\n",
    "s.bind((ip,port))\n",
    "print(\"Binded\")\n",
    "#listening and accepting the connection\n",
    "s.listen()\n",
    "o , addr = s.accept()\n",
    "print(\"Connected to {}\".format(addr))\n",
    "\n",
    "cap = cv2.VideoCapture(0) #caputuring the video from webcam\n",
    "while True:\n",
    "    ret , photo = cap.read()\n",
    "    ret, buffer = cv2.imencode('.jpg',photo) #encoding the data captured by the Webcamera\n",
    "    bytedata = pickle.dumps(buffer) #storing the buffer data to the bytedata\n",
    "    o.send(bytedata) #sending the data\n",
    "\n",
    "    x = o.recv(1000000) #reciveing the data\n",
    "    \n",
    "    try:\n",
    "        data = pickle.loads(x)  # retrieving the recieved video\n",
    "        data = cv2.imdecode(data,cv2.IMREAD_COLOR) # decoding the video stream in colors\n",
    "        if data is not None :\n",
    "            cv2.imshow('reciever',data) # displaying the window of video\n",
    "            if cv2.waitKey(10) == 13 :\n",
    "                break\n",
    "    except: \n",
    "        print(\"Waiting for the client!\")\n",
    "        \n",
    "cv2.destroyAllWindows()\n",
    "cap.release()"
   ]
  },
  {
   "cell_type": "code",
   "execution_count": null,
   "id": "29ae1ed3",
   "metadata": {},
   "outputs": [],
   "source": []
  }
 ],
 "metadata": {
  "kernelspec": {
   "display_name": "Python 3",
   "language": "python",
   "name": "python3"
  },
  "language_info": {
   "codemirror_mode": {
    "name": "ipython",
    "version": 3
   },
   "file_extension": ".py",
   "mimetype": "text/x-python",
   "name": "python",
   "nbconvert_exporter": "python",
   "pygments_lexer": "ipython3",
   "version": "3.9.4"
  }
 },
 "nbformat": 4,
 "nbformat_minor": 5
}
